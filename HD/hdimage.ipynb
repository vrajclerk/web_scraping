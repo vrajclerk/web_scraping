{
 "cells": [
  {
   "cell_type": "code",
   "execution_count": 1,
   "metadata": {},
   "outputs": [
    {
     "name": "stdout",
     "output_type": "stream",
     "text": [
      "Data successfully written to names_and_images.json\n"
     ]
    }
   ],
   "source": [
    "import requests\n",
    "from bs4 import BeautifulSoup\n",
    "\n",
    "def get_image_urls(url):\n",
    "    try:\n",
    "        # Send a GET request to the URL\n",
    "        response = requests.get(url)\n",
    "        response.raise_for_status()  # Raise an exception for HTTP errors\n",
    "\n",
    "        # Parse the HTML content\n",
    "        soup = BeautifulSoup(response.content, 'html.parser')\n",
    "\n",
    "        # Find all image elements\n",
    "        img_tags = soup.find_all('img')\n",
    "\n",
    "        # Extract the 'src' attribute of the first five images\n",
    "        img_urls = [img['src'] for img in img_tags[:9] if 'src' in img.attrs]\n",
    "\n",
    "        # Handle relative URLs\n",
    "        img_urls = [requests.compat.urljoin(url, img_url) for img_url in img_urls]\n",
    "\n",
    "        return img_urls\n",
    "    except requests.exceptions.RequestException as e:\n",
    "        print(f\"Error fetching the URL: {e}\")\n",
    "        return []\n",
    "\n",
    "name = [\n",
    " \"Vikram Sarabhai\",\n",
    " \"Gopal Krishna Gokhale\",\n",
    " \"Amitabh Bachchan\"\n",
    "]\n",
    "\n",
    "data = {}\n",
    "for i in name:\n",
    "    splite_name = i.split(\" \")\n",
    "    url = f\"https://www.google.com/search?q={'+'.join(splite_name)}+single+person&tbm=isch&tbs=isz:l\"\n",
    "    image_urls = get_image_urls(url)\n",
    "    data[i] = image_urls[1:]\n",
    "\n",
    "import json\n",
    "\n",
    "filename = \"names_and_images.json\"\n",
    "\n",
    "def store_data_to_json(data, filename):\n",
    "    try:\n",
    "        with open(filename, 'w') as json_file:\n",
    "            json.dump(data, json_file, indent=4)\n",
    "        print(f\"Data successfully written to {filename}\")\n",
    "    except Exception as e:\n",
    "        print(f\"Error writing to JSON file: {e}\")\n",
    "\n",
    "# Store the data to a JSON file\n",
    "store_data_to_json(data, filename)\n",
    "\n",
    "import os\n",
    "\n",
    "def download_image(folder_name, img_name, img_url, rootfolder='images'):\n",
    "    if not os.path.exists(rootfolder):\n",
    "        os.makedirs(rootfolder)\n",
    "    if not os.path.exists(rootfolder+\"/\"+folder_name):\n",
    "        os.makedirs(rootfolder+\"/\"+folder_name)\n",
    "    img_response = requests.get(img_url)\n",
    "    folder = rootfolder+\"/\"+folder_name\n",
    "    img_path = os.path.join(folder, img_name)\n",
    "    with open(img_path, 'wb') as file:\n",
    "        file.write(img_response.content)\n",
    "    return img_path\n",
    "\n",
    "download_data = {}\n",
    "\n",
    "\n"
   ]
  },
  {
   "cell_type": "code",
   "execution_count": 2,
   "metadata": {},
   "outputs": [
    {
     "data": {
      "text/plain": [
       "{}"
      ]
     },
     "execution_count": 2,
     "metadata": {},
     "output_type": "execute_result"
    }
   ],
   "source": [
    "from PIL import Image\n",
    "import requests\n",
    "from io import BytesIO\n",
    "\n",
    "def upscale_image(image_path, upscale_factor=2):\n",
    "    image = Image.open(image_path)\n",
    "    upscaled_image = image.resize((image.width * upscale_factor, image.height * upscale_factor), Image.LANCZOS)\n",
    "    upscaled_image.save(image_path)\n",
    "    return image_path\n",
    "\n",
    "for name in download_data:\n",
    "    for i in range(len(download_data[name])):\n",
    "        img_path = download_data[name][i]\n",
    "        upscaled_image_path = upscale_image(img_path, upscale_factor=2)\n",
    "        download_data[name][i] = upscaled_image_path\n",
    "\n",
    "download_data"
   ]
  },
  {
   "cell_type": "code",
   "execution_count": null,
   "metadata": {},
   "outputs": [],
   "source": []
  }
 ],
 "metadata": {
  "kernelspec": {
   "display_name": "py312",
   "language": "python",
   "name": "python3"
  },
  "language_info": {
   "codemirror_mode": {
    "name": "ipython",
    "version": 3
   },
   "file_extension": ".py",
   "mimetype": "text/x-python",
   "name": "python",
   "nbconvert_exporter": "python",
   "pygments_lexer": "ipython3",
   "version": "3.12.4"
  }
 },
 "nbformat": 4,
 "nbformat_minor": 2
}
